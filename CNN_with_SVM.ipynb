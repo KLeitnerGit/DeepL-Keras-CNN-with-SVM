{
 "cells": [
  {
   "cell_type": "code",
   "execution_count": null,
   "metadata": {
    "execution": {
     "iopub.execute_input": "2021-10-01T01:41:20.323567Z",
     "iopub.status.busy": "2021-10-01T01:41:20.323203Z",
     "iopub.status.idle": "2021-10-01T01:41:25.438408Z",
     "shell.execute_reply": "2021-10-01T01:41:25.437475Z",
     "shell.execute_reply.started": "2021-10-01T01:41:20.323477Z"
    },
    "id": "gJ514eiLIByp"
   },
   "outputs": [],
   "source": [
    "# Using SVM In CNN\n",
    "\n",
    "# Importing the libraries\n",
    "import tensorflow as tf\n",
    "from tensorflow.keras.preprocessing.image import ImageDataGenerator\n",
    "from tensorflow.keras.layers import Conv2D\n",
    "from tensorflow.keras.layers import Dense\n",
    "from tensorflow.keras.regularizers import l2"
   ]
  },
  {
   "cell_type": "code",
   "execution_count": null,
   "metadata": {
    "execution": {
     "iopub.execute_input": "2021-10-01T01:41:25.441587Z",
     "iopub.status.busy": "2021-10-01T01:41:25.440007Z",
     "iopub.status.idle": "2021-10-01T01:41:25.448909Z",
     "shell.execute_reply": "2021-10-01T01:41:25.447923Z",
     "shell.execute_reply.started": "2021-10-01T01:41:25.441551Z"
    },
    "id": "zx3topWBIByt"
   },
   "outputs": [],
   "source": [
    "# Preprocessing the training dataset\n",
    "train_datagen = ImageDataGenerator(rescale = 1./255,\n",
    "                                   shear_range = 0.2,\n",
    "                                   zoom_range = 0.2,\n",
    "                                   horizontal_flip = True)\n",
    "# Preprocessing the test dataset\n",
    "test_datagen = ImageDataGenerator(rescale = 1./255)"
   ]
  },
  {
   "cell_type": "code",
   "execution_count": null,
   "metadata": {
    "execution": {
     "iopub.execute_input": "2021-10-01T01:43:01.700300Z",
     "iopub.status.busy": "2021-10-01T01:43:01.700014Z",
     "iopub.status.idle": "2021-10-01T01:43:01.727864Z",
     "shell.execute_reply": "2021-10-01T01:43:01.726882Z",
     "shell.execute_reply.started": "2021-10-01T01:43:01.700271Z"
    },
    "id": "BECsOO_SIByv",
    "outputId": "56a0cbb3-ef61-423d-fd5c-1103925e4d98",
    "scrolled": true
   },
   "outputs": [
    {
     "name": "stdout",
     "output_type": "stream",
     "text": [
      "Found 2907 images belonging to 1 classes.\n",
      "Found 985 images belonging to 1 classes.\n"
     ]
    }
   ],
   "source": [
    "# Now to read the data from the datasets\n",
    "training_set = train_datagen.flow_from_directory('training_data_lek',\n",
    "                                                 target_size = (64, 64),\n",
    "                                                 batch_size = 32,\n",
    "                                                 class_mode = 'binary')\n",
    "test_set = test_datagen.flow_from_directory('validation_data_lek',\n",
    "                                            target_size = (64, 64),\n",
    "                                            batch_size = 32,\n",
    "                                            class_mode = 'binary')"
   ]
  },
  {
   "cell_type": "code",
   "execution_count": null,
   "metadata": {
    "execution": {
     "iopub.status.busy": "2021-10-01T01:41:25.728007Z",
     "iopub.status.idle": "2021-10-01T01:41:25.728287Z",
     "shell.execute_reply": "2021-10-01T01:41:25.728162Z",
     "shell.execute_reply.started": "2021-10-01T01:41:25.728147Z"
    },
    "id": "P60egRq-IByw"
   },
   "outputs": [],
   "source": [
    "\n",
    "# Initialising the CNN\n",
    "cnn = tf.keras.models.Sequential()\n",
    "\n",
    "# Step 1 - Convolution\n",
    "cnn.add(tf.keras.layers.Conv2D(filters=32,padding=\"same\",kernel_size=3, activation='relu', strides=2, input_shape=[64, 64, 3]))\n",
    "\n",
    "# Step 2 - Pooling\n",
    "cnn.add(tf.keras.layers.MaxPool2D(pool_size=2, strides=2))\n",
    "\n",
    "# Adding a second convolutional layer\n",
    "cnn.add(tf.keras.layers.Conv2D(filters=32,padding='same',kernel_size=3, activation='relu'))\n",
    "cnn.add(tf.keras.layers.MaxPool2D(pool_size=2, strides=2))\n",
    "\n",
    "# Step 3 - Flattening\n",
    "cnn.add(tf.keras.layers.Flatten())\n",
    "\n",
    "# Step 4 - Full Connection\n",
    "cnn.add(tf.keras.layers.Dense(units=128, activation='relu'))\n",
    "\n",
    "# Step 5 - Output Layer\n",
    "\n",
    "#For binary classification we would use cnn.add(tf.keras.layers.Dense(units=1, activation='sigmoid'))\n",
    "#but here we want use a SVM as final layer therefore we need the regularizers l2 and set the actvion\n",
    "#function to linear (SVM - to draw the line)\n",
    "\n",
    "\n",
    "cnn.add(Dense(1, kernel_regularizer=tf.keras.regularizers.l2(0.01),activation\n",
    "             ='linear'))"
   ]
  },
  {
   "cell_type": "code",
   "execution_count": null,
   "metadata": {
    "execution": {
     "iopub.status.busy": "2021-10-01T01:41:25.729007Z",
     "iopub.status.idle": "2021-10-01T01:41:25.729280Z",
     "shell.execute_reply": "2021-10-01T01:41:25.729156Z",
     "shell.execute_reply.started": "2021-10-01T01:41:25.729142Z"
    },
    "id": "pb87Em7QIByz",
    "outputId": "8029cd67-1230-41a1-91d5-e8938fcc5345"
   },
   "outputs": [
    {
     "name": "stdout",
     "output_type": "stream",
     "text": [
      "Model: \"sequential_3\"\n",
      "_________________________________________________________________\n",
      "Layer (type)                 Output Shape              Param #   \n",
      "=================================================================\n",
      "conv2d_6 (Conv2D)            (None, 32, 32, 32)        896       \n",
      "_________________________________________________________________\n",
      "max_pooling2d_6 (MaxPooling2 (None, 16, 16, 32)        0         \n",
      "_________________________________________________________________\n",
      "conv2d_7 (Conv2D)            (None, 16, 16, 32)        9248      \n",
      "_________________________________________________________________\n",
      "max_pooling2d_7 (MaxPooling2 (None, 8, 8, 32)          0         \n",
      "_________________________________________________________________\n",
      "flatten_3 (Flatten)          (None, 2048)              0         \n",
      "_________________________________________________________________\n",
      "dense_6 (Dense)              (None, 128)               262272    \n",
      "_________________________________________________________________\n",
      "dense_7 (Dense)              (None, 1)                 129       \n",
      "=================================================================\n",
      "Total params: 272,545\n",
      "Trainable params: 272,545\n",
      "Non-trainable params: 0\n",
      "_________________________________________________________________\n"
     ]
    }
   ],
   "source": [
    "cnn.summary()"
   ]
  },
  {
   "cell_type": "code",
   "execution_count": null,
   "metadata": {
    "execution": {
     "iopub.status.busy": "2021-10-01T01:41:25.730052Z",
     "iopub.status.idle": "2021-10-01T01:41:25.730317Z",
     "shell.execute_reply": "2021-10-01T01:41:25.730195Z",
     "shell.execute_reply.started": "2021-10-01T01:41:25.730181Z"
    },
    "id": "kAq8d5tjIBy0",
    "outputId": "bbb54ebb-48bd-4869-a450-b81cbec4aa04"
   },
   "outputs": [
    {
     "name": "stdout",
     "output_type": "stream",
     "text": [
      "Epoch 1/15\n",
      "91/91 [==============================] - 11s 113ms/step - loss: 0.0292 - accuracy: 1.0000 - val_loss: 0.0119 - val_accuracy: 1.0000\n",
      "Epoch 2/15\n",
      "91/91 [==============================] - 6s 69ms/step - loss: 0.0094 - accuracy: 1.0000 - val_loss: 0.0073 - val_accuracy: 1.0000\n",
      "Epoch 3/15\n",
      "91/91 [==============================] - 6s 68ms/step - loss: 0.0059 - accuracy: 1.0000 - val_loss: 0.0048 - val_accuracy: 1.0000\n",
      "Epoch 4/15\n",
      "91/91 [==============================] - 6s 71ms/step - loss: 0.0039 - accuracy: 1.0000 - val_loss: 0.0032 - val_accuracy: 1.0000\n",
      "Epoch 5/15\n",
      "91/91 [==============================] - 6s 67ms/step - loss: 0.0027 - accuracy: 1.0000 - val_loss: 0.0022 - val_accuracy: 1.0000\n",
      "Epoch 6/15\n",
      "91/91 [==============================] - 6s 69ms/step - loss: 0.0019 - accuracy: 1.0000 - val_loss: 0.0017 - val_accuracy: 1.0000\n",
      "Epoch 7/15\n",
      "91/91 [==============================] - 6s 70ms/step - loss: 0.0014 - accuracy: 1.0000 - val_loss: 0.0011 - val_accuracy: 1.0000\n",
      "Epoch 8/15\n",
      "91/91 [==============================] - 7s 71ms/step - loss: 9.5858e-04 - accuracy: 1.0000 - val_loss: 7.9515e-04 - val_accuracy: 1.0000\n",
      "Epoch 9/15\n",
      "91/91 [==============================] - 6s 68ms/step - loss: 6.9724e-04 - accuracy: 1.0000 - val_loss: 6.3079e-04 - val_accuracy: 1.0000\n",
      "Epoch 10/15\n",
      "91/91 [==============================] - 6s 70ms/step - loss: 7.2962e-04 - accuracy: 1.0000 - val_loss: 5.7517e-04 - val_accuracy: 1.0000\n",
      "Epoch 11/15\n",
      "91/91 [==============================] - 6s 67ms/step - loss: 4.5524e-04 - accuracy: 1.0000 - val_loss: 3.5609e-04 - val_accuracy: 1.0000\n",
      "Epoch 12/15\n",
      "91/91 [==============================] - 6s 67ms/step - loss: 2.8967e-04 - accuracy: 1.0000 - val_loss: 2.3197e-04 - val_accuracy: 1.0000\n",
      "Epoch 13/15\n",
      "91/91 [==============================] - 7s 78ms/step - loss: 1.9059e-04 - accuracy: 1.0000 - val_loss: 1.5395e-04 - val_accuracy: 1.0000\n",
      "Epoch 14/15\n",
      "91/91 [==============================] - 8s 83ms/step - loss: 1.2682e-04 - accuracy: 1.0000 - val_loss: 1.0270e-04 - val_accuracy: 1.0000\n",
      "Epoch 15/15\n",
      "91/91 [==============================] - 7s 76ms/step - loss: 8.4649e-05 - accuracy: 1.0000 - val_loss: 6.8435e-05 - val_accuracy: 1.0000\n"
     ]
    }
   ],
   "source": [
    "#Training the CNN\n",
    "\n",
    "# Compiling the CNN\n",
    "# Here it is important to set the loss function to \"hinge\" in order to include the SVM\n",
    "cnn.compile(optimizer = 'adam', loss = 'hinge', metrics = ['accuracy'])\n",
    "\n",
    "# Training the CNN on the Training set and evaluating it on the Test set\n",
    "r=cnn.fit(x = training_set, validation_data = test_set, epochs = 15)"
   ]
  },
  {
   "cell_type": "code",
   "execution_count": null,
   "metadata": {
    "execution": {
     "iopub.status.busy": "2021-10-01T01:41:25.731511Z",
     "iopub.status.idle": "2021-10-01T01:41:25.731789Z",
     "shell.execute_reply": "2021-10-01T01:41:25.731658Z",
     "shell.execute_reply.started": "2021-10-01T01:41:25.731644Z"
    },
    "id": "xctRpc5VIBy1",
    "outputId": "44ea20ed-831e-407b-8fc4-1d711b1c7545"
   },
   "outputs": [
    {
     "data": {
      "image/png": "[encoded data removed]",
      "text/plain": [
       "<Figure size 432x288 with 1 Axes>"
      ]
     },
     "metadata": {
      "needs_background": "light"
     },
     "output_type": "display_data"
    },
    {
     "data": {
      "image/png": "[encoded data removed]",
      "text/plain": [
       "<Figure size 432x288 with 1 Axes>"
      ]
     },
     "metadata": {
      "needs_background": "light"
     },
     "output_type": "display_data"
    },
    {
     "data": {
      "text/plain": [
       "<Figure size 432x288 with 0 Axes>"
      ]
     },
     "metadata": {},
     "output_type": "display_data"
    }
   ],
   "source": [
    "# plot the loss\n",
    "import matplotlib.pyplot as plt\n",
    "plt.plot(r.history['loss'], label='train loss')\n",
    "plt.plot(r.history['val_loss'], label='val loss')\n",
    "plt.legend()\n",
    "plt.show()\n",
    "plt.savefig('LossVal_loss')\n",
    "\n",
    "# plot the accuracy\n",
    "plt.plot(r.history['accuracy'], label='train acc')\n",
    "plt.plot(r.history['val_accuracy'], label='val acc')\n",
    "plt.legend()\n",
    "plt.show()\n",
    "plt.savefig('AccVal_acc')"
   ]
  },
  {
   "cell_type": "code",
   "execution_count": null,
   "metadata": {
    "execution": {
     "iopub.status.busy": "2021-10-01T01:41:25.732757Z",
     "iopub.status.idle": "2021-10-01T01:41:25.733026Z",
     "shell.execute_reply": "2021-10-01T01:41:25.732900Z",
     "shell.execute_reply.started": "2021-10-01T01:41:25.732886Z"
    },
    "id": "CQbkNBr0IBy1"
   },
   "outputs": [],
   "source": [
    "# save it as a h5 file\n",
    "from tensorflow.keras.models import load_model\n",
    "cnn.save('model_rcat_dog.h5')"
   ]
  },
  {
   "cell_type": "code",
   "execution_count": null,
   "metadata": {
    "execution": {
     "iopub.status.busy": "2021-10-01T01:41:25.733951Z",
     "iopub.status.idle": "2021-10-01T01:41:25.734226Z",
     "shell.execute_reply": "2021-10-01T01:41:25.734096Z",
     "shell.execute_reply.started": "2021-10-01T01:41:25.734083Z"
    },
    "id": "_F32I2_IIBy2"
   },
   "outputs": [],
   "source": [
    "from tensorflow.keras.models import load_model\n",
    " \n",
    "# load model\n",
    "model = load_model('model_rcat_dog.h5')"
   ]
  },
  {
   "cell_type": "code",
   "execution_count": null,
   "metadata": {
    "execution": {
     "iopub.status.busy": "2021-10-01T01:41:25.735149Z",
     "iopub.status.idle": "2021-10-01T01:41:25.735460Z",
     "shell.execute_reply": "2021-10-01T01:41:25.735311Z",
     "shell.execute_reply.started": "2021-10-01T01:41:25.735291Z"
    },
    "id": "VVW9nsPzIBy2",
    "outputId": "14a6f178-9f55-4c33-ceb4-8e6d1435465a"
   },
   "outputs": [
    {
     "name": "stdout",
     "output_type": "stream",
     "text": [
      "Model: \"sequential_3\"\n",
      "_________________________________________________________________\n",
      "Layer (type)                 Output Shape              Param #   \n",
      "=================================================================\n",
      "conv2d_6 (Conv2D)            (None, 32, 32, 32)        896       \n",
      "_________________________________________________________________\n",
      "max_pooling2d_6 (MaxPooling2 (None, 16, 16, 32)        0         \n",
      "_________________________________________________________________\n",
      "conv2d_7 (Conv2D)            (None, 16, 16, 32)        9248      \n",
      "_________________________________________________________________\n",
      "max_pooling2d_7 (MaxPooling2 (None, 8, 8, 32)          0         \n",
      "_________________________________________________________________\n",
      "flatten_3 (Flatten)          (None, 2048)              0         \n",
      "_________________________________________________________________\n",
      "dense_6 (Dense)              (None, 128)               262272    \n",
      "_________________________________________________________________\n",
      "dense_7 (Dense)              (None, 1)                 129       \n",
      "=================================================================\n",
      "Total params: 272,545\n",
      "Trainable params: 272,545\n",
      "Non-trainable params: 0\n",
      "_________________________________________________________________\n"
     ]
    }
   ],
   "source": [
    "model.summary()"
   ]
  },
  {
   "cell_type": "code",
   "execution_count": null,
   "metadata": {
    "execution": {
     "iopub.status.busy": "2021-10-01T01:41:25.738960Z",
     "iopub.status.idle": "2021-10-01T01:41:25.739416Z",
     "shell.execute_reply": "2021-10-01T01:41:25.739181Z",
     "shell.execute_reply.started": "2021-10-01T01:41:25.739159Z"
    },
    "id": "IkE2z8FWIBy3"
   },
   "outputs": [],
   "source": [
    "# Part 4 - Making a single prediction\n",
    "\n",
    "import numpy as np\n",
    "from tensorflow.keras.preprocessing import image\n",
    "test_image = image.load_img('validation_data_lek/validation_data/cat.10010.jpg', target_size = (64,64))\n",
    "test_image = image.img_to_array(test_image)\n",
    "test_image = test_image/255\n",
    "test_image = np.expand_dims(test_image, axis = 0)\n",
    "result = cnn.predict(test_image)"
   ]
  },
  {
   "cell_type": "code",
   "execution_count": null,
   "metadata": {
    "id": "lRzZOJn5IBy3",
    "outputId": "904e43e8-5915-41f8-ce63-ed19d1f05738"
   },
   "outputs": [
    {
     "data": {
      "text/plain": [
       "array([[-2.2251215]], dtype=float32)"
      ]
     },
     "execution_count": 44,
     "metadata": {},
     "output_type": "execute_result"
    }
   ],
   "source": [
    "result"
   ]
  },
  {
   "cell_type": "code",
   "execution_count": null,
   "metadata": {
    "execution": {
     "iopub.status.busy": "2021-10-01T01:41:25.740631Z",
     "iopub.status.idle": "2021-10-01T01:41:25.741077Z",
     "shell.execute_reply": "2021-10-01T01:41:25.740867Z",
     "shell.execute_reply.started": "2021-10-01T01:41:25.740843Z"
    },
    "id": "vda7enNMIBy4",
    "outputId": "60aa4efb-64e8-495f-9d77-e3b26dfcfa75"
   },
   "outputs": [
    {
     "name": "stdout",
     "output_type": "stream",
     "text": [
      "The image classified is cat\n"
     ]
    }
   ],
   "source": [
    "if result[0]<0:\n",
    "    print(\"The image classified is cat\")\n",
    "else:\n",
    "    print(\"The image classified is dog\")"
   ]
  },
  {
   "cell_type": "code",
   "execution_count": null,
   "metadata": {
    "id": "6tyDb7SJIBy4"
   },
   "outputs": [],
   "source": []
  }
 ],
 "metadata": {
  "colab": {
   "provenance": []
  },
  "kernelspec": {
   "display_name": "Python 3 (ipykernel)",
   "language": "python",
   "name": "python3"
  },
  "language_info": {
   "codemirror_mode": {
    "name": "ipython",
    "version": 3
   },
   "file_extension": ".py",
   "mimetype": "text/x-python",
   "name": "python",
   "nbconvert_exporter": "python",
   "pygments_lexer": "ipython3",
   "version": "3.10.9"
  },
  "nbTranslate": {
   "displayLangs": [
    "*"
   ],
   "hotkey": "alt-t",
   "langInMainMenu": true,
   "sourceLang": "en",
   "targetLang": "fr",
   "useGoogleTranslate": true
  },
  "toc": {
   "base_numbering": 1,
   "nav_menu": {},
   "number_sections": true,
   "sideBar": true,
   "skip_h1_title": false,
   "title_cell": "Table of Contents",
   "title_sidebar": "Contents",
   "toc_cell": true,
   "toc_position": {},
   "toc_section_display": true,
   "toc_window_display": true
  }
 },
 "nbformat": 4,
 "nbformat_minor": 1
}
